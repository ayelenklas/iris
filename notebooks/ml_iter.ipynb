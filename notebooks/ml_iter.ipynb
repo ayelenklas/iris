{
 "cells": [
  {
   "cell_type": "code",
   "execution_count": 2,
   "id": "aca366ed",
   "metadata": {},
   "outputs": [
    {
     "name": "stdout",
     "output_type": "stream",
     "text": [
      "The autoreload extension is already loaded. To reload it, use:\n",
      "  %reload_ext autoreload\n"
     ]
    }
   ],
   "source": [
    "%load_ext autoreload\n",
    "%autoreload 2"
   ]
  },
  {
   "cell_type": "code",
   "execution_count": 9,
   "id": "b0039669",
   "metadata": {},
   "outputs": [],
   "source": [
    "from iris.trainer import Trainer"
   ]
  },
  {
   "cell_type": "code",
   "execution_count": 19,
   "id": "d4151aef",
   "metadata": {},
   "outputs": [],
   "source": [
    "trainer = Trainer()\n",
    "trainer.train()"
   ]
  },
  {
   "cell_type": "code",
   "execution_count": 20,
   "id": "6db21301",
   "metadata": {},
   "outputs": [],
   "source": [
    "from mlflow.tracking import MlflowClient\n",
    "\n",
    "EXPERIMENT_NAME = \"TF\"\n",
    "\n",
    "client = MlflowClient()\n",
    "experiment_id = client.create_experiment(EXPERIMENT_NAME)\n",
    "\n",
    "run = client.create_run(experiment_id)\n",
    "client.log_param(run.info.run_id, \"estimator\", \"linear regression\")\n",
    "client.log_param(run.info.run_id, \"n_rows\", \"1000\")\n",
    "client.log_metric(run.info.run_id,\"rmse\",4.5)\n"
   ]
  },
  {
   "cell_type": "code",
   "execution_count": 22,
   "id": "28cd5d38",
   "metadata": {},
   "outputs": [],
   "source": [
    "run = client.create_run(experiment_id)\n",
    "client.log_param(run.info.run_id, \"estimator\", \"linear regression\")\n",
    "client.log_param(run.info.run_id, \"n_rows\", \"100000\")\n",
    "client.log_metric(run.info.run_id,\"rmse\",1.3)"
   ]
  },
  {
   "cell_type": "code",
   "execution_count": 23,
   "id": "85eeee89",
   "metadata": {},
   "outputs": [
    {
     "name": "stdout",
     "output_type": "stream",
     "text": [
      "[2021-12-17 17:31:16 +0100] [10547] [INFO] Starting gunicorn 20.1.0\n",
      "[2021-12-17 17:31:16 +0100] [10547] [INFO] Listening at: http://127.0.0.1:5000 (10547)\n",
      "[2021-12-17 17:31:16 +0100] [10547] [INFO] Using worker: sync\n",
      "[2021-12-17 17:31:16 +0100] [10549] [INFO] Booting worker with pid: 10549\n",
      "^C\n",
      "[2021-12-17 17:32:06 +0100] [10547] [INFO] Handling signal: int\n",
      "[2021-12-17 17:32:06 +0100] [10549] [INFO] Worker exiting (pid: 10549)\n"
     ]
    }
   ],
   "source": [
    "! mlflow ui"
   ]
  },
  {
   "cell_type": "code",
   "execution_count": null,
   "id": "a58e9d23",
   "metadata": {},
   "outputs": [],
   "source": []
  }
 ],
 "metadata": {
  "kernelspec": {
   "display_name": "Python 3 (ipykernel)",
   "language": "python",
   "name": "python3"
  },
  "language_info": {
   "codemirror_mode": {
    "name": "ipython",
    "version": 3
   },
   "file_extension": ".py",
   "mimetype": "text/x-python",
   "name": "python",
   "nbconvert_exporter": "python",
   "pygments_lexer": "ipython3",
   "version": "3.8.12"
  },
  "toc": {
   "base_numbering": 1,
   "nav_menu": {},
   "number_sections": true,
   "sideBar": true,
   "skip_h1_title": false,
   "title_cell": "Table of Contents",
   "title_sidebar": "Contents",
   "toc_cell": false,
   "toc_position": {},
   "toc_section_display": true,
   "toc_window_display": false
  }
 },
 "nbformat": 4,
 "nbformat_minor": 5
}
